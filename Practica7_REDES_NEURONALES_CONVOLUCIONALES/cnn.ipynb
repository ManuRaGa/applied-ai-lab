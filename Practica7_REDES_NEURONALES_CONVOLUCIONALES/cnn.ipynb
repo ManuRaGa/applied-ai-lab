{
 "cells": [
  {
   "cell_type": "markdown",
   "metadata": {},
   "source": [
    "# Introduccióna a las redes neuronales convolucionales"
   ]
  },
  {
   "cell_type": "markdown",
   "metadata": {},
   "source": [
    "En este ejemplo se diseñará una red neuronal convolucional que pueda clasificar digitos escritos a mano."
   ]
  },
  {
   "cell_type": "markdown",
   "metadata": {},
   "source": [
    "## Cargar los datos"
   ]
  },
  {
   "cell_type": "code",
   "execution_count": 1,
   "metadata": {},
   "outputs": [],
   "source": [
    "#Cargar dataset del MNIST\n",
    "\n",
    "from keras.datasets import mnist\n",
    "\n",
    "# Cargar dataset\n",
    "(train_images, train_labels), (test_images, test_labels) = mnist.load_data()"
   ]
  },
  {
   "cell_type": "markdown",
   "metadata": {},
   "source": [
    "El dataset del MNIST contiene digitos del 0 al 9 escritos a mano"
   ]
  },
  {
   "cell_type": "code",
   "execution_count": 2,
   "metadata": {},
   "outputs": [
    {
     "data": {
      "image/png": "[encoded data removed]",
      "text/plain": [
       "<Figure size 1000x1000 with 11 Axes>"
      ]
     },
     "metadata": {},
     "output_type": "display_data"
    }
   ],
   "source": [
    "import matplotlib.pyplot as plt\n",
    "shown_digits = set()\n",
    "\n",
    "plt.subplots(figsize=(10, 10))\n",
    "for idx, image in enumerate(train_images):\n",
    "    if train_labels[idx] not in shown_digits:\n",
    "        plt.subplot(5, 5, len(shown_digits) + 1)\n",
    "        plt.imshow(image, cmap=plt.cm.gray_r)\n",
    "        plt.axis('off')\n",
    "        plt.title('Digito: %i' % train_labels[idx])\n",
    "        shown_digits.add(train_labels[idx])\n",
    "plt.show()"
   ]
  },
  {
   "cell_type": "markdown",
   "metadata": {},
   "source": [
    "## Prepocesamiento"
   ]
  },
  {
   "cell_type": "markdown",
   "metadata": {},
   "source": [
    "Cada digito es un arreglo de Numpy de 8 bits sin signo de 28 pixeles de alto y 28 pixeles de anchos"
   ]
  },
  {
   "cell_type": "code",
   "execution_count": 3,
   "metadata": {},
   "outputs": [
    {
     "name": "stdout",
     "output_type": "stream",
     "text": [
      "Dimensiones de la imagen: (28, 28), tipo de dato: uint8\n"
     ]
    }
   ],
   "source": [
    "print(f\"Dimensiones de la imagen: {train_images[0].shape}, tipo de dato: {train_images[0].dtype}\")"
   ]
  },
  {
   "cell_type": "markdown",
   "metadata": {},
   "source": [
    "En este caso tenemos imágenes en escala de grises, Keras nos pide especificar el número de canales en estas imágenes, por lo que tenemos que convertir cada imagen de (28, 28) a (28, 28, 1)\n",
    "\n",
    "Podemos hacer esto utilizando el método reshape de Numpy"
   ]
  },
  {
   "cell_type": "code",
   "execution_count": 4,
   "metadata": {},
   "outputs": [],
   "source": [
    "import numpy as np\n",
    "x = train_images.reshape((-1, 28, 28, 1)) #TODO: Convertir a una imagen de 28x28x1"
   ]
  },
  {
   "cell_type": "markdown",
   "metadata": {},
   "source": [
    "Otro paso importante de preprocesamiento es la normlización, al tener imagenes de 8 bits sin signo, el valor máximo que un pixel puede alcanzar es 255, vamos a normalizar convertiendo los datos de entrada al tipo float32 y dividiendolos entre 255 para tener pixeles en el rango de $[0, 1]$ "
   ]
  },
  {
   "cell_type": "code",
   "execution_count": 5,
   "metadata": {},
   "outputs": [],
   "source": [
    "x = x.astype('float32') #TODO: Convertir a float32\n",
    "x = x / 255.0 #TODO: Normalizar los valores entre 0 y 1"
   ]
  },
  {
   "cell_type": "markdown",
   "metadata": {},
   "source": [
    "Las salidas en nuestro caso es el digito al que corresponde la imagen de entrada, vamos a resolver el problema utilizando clasificación multiclase, por lo que aplicaremos one hot encoding para codificar las etiquetas"
   ]
  },
  {
   "cell_type": "code",
   "execution_count": 6,
   "metadata": {},
   "outputs": [],
   "source": [
    "from keras.utils import to_categorical\n",
    "\n",
    "y = to_categorical(train_labels, num_classes=10)"
   ]
  },
  {
   "cell_type": "markdown",
   "metadata": {},
   "source": [
    "## Definir la arquitectura de la red"
   ]
  },
  {
   "cell_type": "markdown",
   "metadata": {},
   "source": [
    "Para este problema utilizaremos la aquitectura LeNet-5.\n",
    "\n",
    "LeNet-5 es una arquitectura de red neuronal convolucional (CNN) que fue desarrollada por Yann LeCun en 1998. \n",
    "\n",
    "Fue una de las primeras CNNs exitosas y se utilizó principalmente para tareas de reconocimiento de dígitos escritos a mano, como el reconocimiento de caracteres numéricos en cheques bancarios.\n",
    "\n",
    "La arquitectura LeNet-5 consta de las siguientes capas principales:\n",
    "\n",
    "- La primera capa convolucional aplica 6 filtros de 5x5 píxeles. \n",
    "    Se utilizan funciones de activación tipo ReLU (Rectified Linear Unit) después de cada convolución.\n",
    "\n",
    "- Después de la primera capa convolucional, LeNet-5 utiliza capas de pooling de 2x2 pixeles para reducir la dimensionalidad.\n",
    "\n",
    "- Después de la capa de pooling, se aplica una segunda capa convolucional con 16 filtros de 5x5 píxeles.\n",
    "    Al igual que en la primera capa convolucional, se utilizan funciones de activación ReLU.\n",
    "\n",
    "- Se aplica otra capa de pooling para reducir la dimensionalidad antes de la capa completamente conectada.\n",
    "\n",
    "- Después de las capas convolucionales y de pooling, se conectan dos capas completamente conectadas (fully connected) con 120 y 84 neuronas, respectivamente.\n",
    "Se utilizan funciones de activación ReLU en estas capas.\n",
    "\n",
    "- La capa de salida consiste en un conjunto de neuronas igual al número de clases de salida en la tarea."
   ]
  },
  {
   "cell_type": "markdown",
   "metadata": {},
   "source": [
    "`NOTA: Recuerde que antes de la primer capa totalmente conectada se utiliza una capa Flatten`"
   ]
  },
  {
   "cell_type": "code",
   "execution_count": 7,
   "metadata": {},
   "outputs": [
    {
     "name": "stderr",
     "output_type": "stream",
     "text": [
      "c:\\Users\\HUAWEI\\AppData\\Local\\Programs\\Python\\Python311\\Lib\\site-packages\\keras\\src\\layers\\convolutional\\base_conv.py:107: UserWarning: Do not pass an `input_shape`/`input_dim` argument to a layer. When using Sequential models, prefer using an `Input(shape)` object as the first layer in the model instead.\n",
      "  super().__init__(activity_regularizer=activity_regularizer, **kwargs)\n"
     ]
    }
   ],
   "source": [
    "from keras.layers import Conv2D, MaxPooling2D, Flatten, Dense\n",
    "from tensorflow.keras.models import Sequential\n",
    "\n",
    "#TODO: Crear el modelo\n",
    "model = Sequential()\n",
    "model.add(Conv2D(6, (5, 5), activation='relu', input_shape=(28, 28, 1)))\n",
    "model.add(MaxPooling2D((2, 2)))\n",
    "model.add(Conv2D(16, (5, 5), activation='relu'))\n",
    "model.add(MaxPooling2D((2, 2)))\n",
    "model.add(Flatten())\n",
    "model.add(Dense(120, activation='relu'))\n",
    "model.add(Dense(84, activation='relu'))\n",
    "model.add(Dense(10, activation='softmax'))"
   ]
  },
  {
   "cell_type": "code",
   "execution_count": 8,
   "metadata": {},
   "outputs": [],
   "source": [
    "#TODO: Compilar el modelo\n",
    "model.compile(optimizer='adam', loss='categorical_crossentropy', metrics=['accuracy'])"
   ]
  },
  {
   "cell_type": "code",
   "execution_count": 9,
   "metadata": {},
   "outputs": [
    {
     "name": "stdout",
     "output_type": "stream",
     "text": [
      "Epoch 1/10\n",
      "\u001b[1m469/469\u001b[0m \u001b[32m━━━━━━━━━━━━━━━━━━━━\u001b[0m\u001b[37m\u001b[0m \u001b[1m7s\u001b[0m 10ms/step - accuracy: 0.7962 - loss: 0.7056\n",
      "Epoch 2/10\n",
      "\u001b[1m469/469\u001b[0m \u001b[32m━━━━━━━━━━━━━━━━━━━━\u001b[0m\u001b[37m\u001b[0m \u001b[1m4s\u001b[0m 9ms/step - accuracy: 0.9669 - loss: 0.1102\n",
      "Epoch 3/10\n",
      "\u001b[1m469/469\u001b[0m \u001b[32m━━━━━━━━━━━━━━━━━━━━\u001b[0m\u001b[37m\u001b[0m \u001b[1m4s\u001b[0m 9ms/step - accuracy: 0.9796 - loss: 0.0687\n",
      "Epoch 4/10\n",
      "\u001b[1m469/469\u001b[0m \u001b[32m━━━━━━━━━━━━━━━━━━━━\u001b[0m\u001b[37m\u001b[0m \u001b[1m4s\u001b[0m 9ms/step - accuracy: 0.9831 - loss: 0.0552\n",
      "Epoch 5/10\n",
      "\u001b[1m469/469\u001b[0m \u001b[32m━━━━━━━━━━━━━━━━━━━━\u001b[0m\u001b[37m\u001b[0m \u001b[1m4s\u001b[0m 9ms/step - accuracy: 0.9864 - loss: 0.0429\n",
      "Epoch 6/10\n",
      "\u001b[1m469/469\u001b[0m \u001b[32m━━━━━━━━━━━━━━━━━━━━\u001b[0m\u001b[37m\u001b[0m \u001b[1m4s\u001b[0m 9ms/step - accuracy: 0.9884 - loss: 0.0368\n",
      "Epoch 7/10\n",
      "\u001b[1m469/469\u001b[0m \u001b[32m━━━━━━━━━━━━━━━━━━━━\u001b[0m\u001b[37m\u001b[0m \u001b[1m4s\u001b[0m 9ms/step - accuracy: 0.9908 - loss: 0.0293\n",
      "Epoch 8/10\n",
      "\u001b[1m469/469\u001b[0m \u001b[32m━━━━━━━━━━━━━━━━━━━━\u001b[0m\u001b[37m\u001b[0m \u001b[1m5s\u001b[0m 10ms/step - accuracy: 0.9911 - loss: 0.0277\n",
      "Epoch 9/10\n",
      "\u001b[1m469/469\u001b[0m \u001b[32m━━━━━━━━━━━━━━━━━━━━\u001b[0m\u001b[37m\u001b[0m \u001b[1m5s\u001b[0m 10ms/step - accuracy: 0.9925 - loss: 0.0235\n",
      "Epoch 10/10\n",
      "\u001b[1m469/469\u001b[0m \u001b[32m━━━━━━━━━━━━━━━━━━━━\u001b[0m\u001b[37m\u001b[0m \u001b[1m5s\u001b[0m 11ms/step - accuracy: 0.9929 - loss: 0.0217\n"
     ]
    },
    {
     "data": {
      "text/plain": [
       "<keras.src.callbacks.history.History at 0x1753a38ad50>"
      ]
     },
     "execution_count": 9,
     "metadata": {},
     "output_type": "execute_result"
    }
   ],
   "source": [
    "#TODO: Entrenar el modelo\n",
    "model.fit(x, y, epochs=10, batch_size=128)"
   ]
  },
  {
   "cell_type": "code",
   "execution_count": 10,
   "metadata": {},
   "outputs": [
    {
     "name": "stdout",
     "output_type": "stream",
     "text": [
      "\u001b[1m1875/1875\u001b[0m \u001b[32m━━━━━━━━━━━━━━━━━━━━\u001b[0m\u001b[37m\u001b[0m \u001b[1m6s\u001b[0m 3ms/step - accuracy: 0.9948 - loss: 0.0163\n",
      "Test accuracy: 0.994533360004425\n",
      "Test loss: 0.017184991389513016\n"
     ]
    }
   ],
   "source": [
    "#TODO: Evaluar el modelo con los datos de test\n",
    "test_loss, test_acc = model.evaluate(x, y)\n",
    "print('Test accuracy:', test_acc)\n",
    "print('Test loss:', test_loss)"
   ]
  },
  {
   "cell_type": "code",
   "execution_count": 11,
   "metadata": {},
   "outputs": [
    {
     "name": "stderr",
     "output_type": "stream",
     "text": [
      "WARNING:absl:You are saving your model as an HDF5 file via `model.save()` or `keras.saving.save_model(model)`. This file format is considered legacy. We recommend using instead the native Keras format, e.g. `model.save('my_model.keras')` or `keras.saving.save_model(model, 'my_model.keras')`. \n"
     ]
    }
   ],
   "source": [
    "#TODO: Guardar el modelo\n",
    "model.save('mnist_cnn.h5')"
   ]
  }
 ],
 "metadata": {
  "kernelspec": {
   "display_name": "Python 3",
   "language": "python",
   "name": "python3"
  },
  "language_info": {
   "codemirror_mode": {
    "name": "ipython",
    "version": 3
   },
   "file_extension": ".py",
   "mimetype": "text/x-python",
   "name": "python",
   "nbconvert_exporter": "python",
   "pygments_lexer": "ipython3",
   "version": "3.11.6"
  },
  "orig_nbformat": 4
 },
 "nbformat": 4,
 "nbformat_minor": 2
}
